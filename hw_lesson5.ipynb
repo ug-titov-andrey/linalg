{
 "cells": [
  {
   "cell_type": "markdown",
   "id": "39b1b005",
   "metadata": {},
   "source": [
    "1. Найдите посредством NumPy SVD для матрицы:\n",
    "\n",
    "$\\begin{pmatrix}\n",
    "1 & 2 & 0\\\\ \n",
    "0 & 0 & 5\\\\ \n",
    "3 & -4 & 2\\\\ \n",
    "1 & 6 & 5\\\\ \n",
    "0 & 1 & 0\n",
    "\\end{pmatrix}.$\n"
   ]
  },
  {
   "cell_type": "code",
   "execution_count": 25,
   "id": "bfce3260",
   "metadata": {},
   "outputs": [
    {
     "name": "stdout",
     "output_type": "stream",
     "text": [
      "Исходная матрица => \n",
      "[[ 1  2  0]\n",
      " [ 0  0  5]\n",
      " [ 3 -4  2]\n",
      " [ 1  6  5]\n",
      " [ 0  1  0]]\n"
     ]
    }
   ],
   "source": [
    "import numpy as np\n",
    "np.set_printoptions(precision=2, suppress=True)\n",
    "A = np.array([[1, 2, 0], [0, 0, 5],[3, -4, 2],[1,6, 5], [0, 1, 0]])\n",
    "print(f'Исходная матрица => \\n{A}')"
   ]
  },
  {
   "cell_type": "code",
   "execution_count": 21,
   "id": "e5d09177",
   "metadata": {},
   "outputs": [
    {
     "name": "stdout",
     "output_type": "stream",
     "text": [
      "Матрица левых сингулярных векторов => \n",
      " [[ 0.17  0.16 -0.53 -0.8  -0.16]\n",
      " [ 0.39 -0.53  0.61 -0.43  0.03]\n",
      " [-0.14 -0.82 -0.52  0.14  0.07]\n",
      " [ 0.89  0.06 -0.25  0.38 -0.06]\n",
      " [ 0.08  0.11 -0.08 -0.11  0.98]]  \n",
      "Матрица правых сингулярных векторов => \n",
      " [[ 0.07 -0.37 -0.93]\n",
      " [ 0.72  0.67 -0.21]\n",
      " [ 0.69 -0.65  0.31]]\n",
      "Диагональная матрица с сингулярными числами=> \n",
      "[[8.82 0.   0.  ]\n",
      " [0.   6.14 0.  ]\n",
      " [0.   0.   2.53]\n",
      " [0.   0.   0.  ]\n",
      " [0.   0.   0.  ]]\n"
     ]
    }
   ],
   "source": [
    "U, s, W = np.linalg.svd(A) # s - сингулярные числа\n",
    "# Транспонируем матрицу W\n",
    "V = W.T\n",
    "\n",
    "# s - список диагональных элементов, его нужно привести к виду диагональной матрицы для наглядности\n",
    "D = np.zeros_like(A, dtype=float)\n",
    "D[np.diag_indices(min(A.shape))] = s\n",
    "\n",
    "print(f'Матрица левых сингулярных векторов => \\n {U}  ')\n",
    "print(f'Матрица правых сингулярных векторов => \\n {V}')\n",
    "print(f'Диагональная матрица с сингулярными числами=> \\n{D}')\n"
   ]
  },
  {
   "cell_type": "markdown",
   "id": "3e5347ae",
   "metadata": {},
   "source": [
    "2. Для матрицы из предыдущего задания найдите:\n",
    "\n",
    "    а) евклидову норму;\n",
    "    \n",
    "    б) норму Фробениуса.\n",
    "    \n",
    "    \n",
    "   **Решение**\n",
    "   \n",
    "   Евклидова норма определяет макстмальный коэффициент растяжения (сжатия). <br>\n",
    "   В случае сингулярного разложения максимальное растяжение будет определяться максимальным сингулярным числом, <br>\n",
    "   то есть $\\left \\| A \\right \\|_{E}= 8.82$ <br> <br>\n",
    "   Норма Фробениуса равна корню квадратному от суммы квадратов сингулярных чисел : <br>\n",
    "   $\\left \\| A \\right \\|_{F}=\\sqrt{\\sum_{k=1}^{r}\\mu_{k}^{2}} = \\sqrt{8.82^2 +6.14^2+2.53^2} = 11.04$"
   ]
  },
  {
   "cell_type": "code",
   "execution_count": null,
   "id": "3392a884",
   "metadata": {},
   "outputs": [],
   "source": []
  }
 ],
 "metadata": {
  "kernelspec": {
   "display_name": "Python 3 (ipykernel)",
   "language": "python",
   "name": "python3"
  },
  "language_info": {
   "codemirror_mode": {
    "name": "ipython",
    "version": 3
   },
   "file_extension": ".py",
   "mimetype": "text/x-python",
   "name": "python",
   "nbconvert_exporter": "python",
   "pygments_lexer": "ipython3",
   "version": "3.9.12"
  }
 },
 "nbformat": 4,
 "nbformat_minor": 5
}
